{
<<<<<<< HEAD
 "cells": [
  {
   "cell_type": "code",
   "execution_count": 21,
   "metadata": {},
   "outputs": [],
   "source": [
    "import pandas as pd"
   ]
  },
  {
   "cell_type": "code",
   "execution_count": 22,
   "metadata": {},
   "outputs": [
    {
     "data": {
      "text/html": [
       "<div>\n",
       "<style scoped>\n",
       "    .dataframe tbody tr th:only-of-type {\n",
       "        vertical-align: middle;\n",
       "    }\n",
       "\n",
       "    .dataframe tbody tr th {\n",
       "        vertical-align: top;\n",
       "    }\n",
       "\n",
       "    .dataframe thead th {\n",
       "        text-align: right;\n",
       "    }\n",
       "</style>\n",
       "<table border=\"1\" class=\"dataframe\">\n",
       "  <thead>\n",
       "    <tr style=\"text-align: right;\">\n",
       "      <th></th>\n",
       "      <th>BANCO</th>\n",
       "      <th>fecha_reporte</th>\n",
       "      <th>CLIENTES</th>\n",
       "    </tr>\n",
       "  </thead>\n",
       "  <tbody>\n",
       "    <tr>\n",
       "      <td>0</td>\n",
       "      <td>BANCO AV VILLAS</td>\n",
       "      <td>2020-09-02</td>\n",
       "      <td>2200</td>\n",
       "    </tr>\n",
       "    <tr>\n",
       "      <td>1</td>\n",
       "      <td>BANCO CAJA SOCIAL</td>\n",
       "      <td>2020-09-02</td>\n",
       "      <td>42</td>\n",
       "    </tr>\n",
       "    <tr>\n",
       "      <td>2</td>\n",
       "      <td>BANCO DE BOGOTA</td>\n",
       "      <td>2020-09-02</td>\n",
       "      <td>2130</td>\n",
       "    </tr>\n",
       "    <tr>\n",
       "      <td>3</td>\n",
       "      <td>BANCO POPULAR</td>\n",
       "      <td>2020-09-02</td>\n",
       "      <td>2932</td>\n",
       "    </tr>\n",
       "    <tr>\n",
       "      <td>4</td>\n",
       "      <td>BANCO AV VILLAS</td>\n",
       "      <td>2020-09-03</td>\n",
       "      <td>2200</td>\n",
       "    </tr>\n",
       "  </tbody>\n",
       "</table>\n",
       "</div>"
      ],
      "text/plain": [
       "               BANCO fecha_reporte  CLIENTES\n",
       "0    BANCO AV VILLAS    2020-09-02      2200\n",
       "1  BANCO CAJA SOCIAL    2020-09-02        42\n",
       "2    BANCO DE BOGOTA    2020-09-02      2130\n",
       "3      BANCO POPULAR    2020-09-02      2932\n",
       "4    BANCO AV VILLAS    2020-09-03      2200"
      ]
     },
     "execution_count": 22,
     "metadata": {},
     "output_type": "execute_result"
    }
   ],
   "source": [
    "data = pd.read_excel(\"./RecursoDatos.xlsx\")\n",
    "heands = data.columns.values.tolist()\n",
    "data.head()"
   ]
  },
  {
   "cell_type": "code",
   "execution_count": 9,
   "metadata": {},
   "outputs": [
    {
     "data": {
      "text/html": [
       "<div>\n",
       "<style scoped>\n",
       "    .dataframe tbody tr th:only-of-type {\n",
       "        vertical-align: middle;\n",
       "    }\n",
       "\n",
       "    .dataframe tbody tr th {\n",
       "        vertical-align: top;\n",
       "    }\n",
       "\n",
       "    .dataframe thead th {\n",
       "        text-align: right;\n",
       "    }\n",
       "</style>\n",
       "<table border=\"1\" class=\"dataframe\">\n",
       "  <thead>\n",
       "    <tr style=\"text-align: right;\">\n",
       "      <th></th>\n",
       "      <th>CLIENTES</th>\n",
       "    </tr>\n",
       "  </thead>\n",
       "  <tbody>\n",
       "    <tr>\n",
       "      <td>count</td>\n",
       "      <td>131.000000</td>\n",
       "    </tr>\n",
       "    <tr>\n",
       "      <td>mean</td>\n",
       "      <td>1497.007634</td>\n",
       "    </tr>\n",
       "    <tr>\n",
       "      <td>std</td>\n",
       "      <td>1510.022040</td>\n",
       "    </tr>\n",
       "    <tr>\n",
       "      <td>min</td>\n",
       "      <td>2.000000</td>\n",
       "    </tr>\n",
       "    <tr>\n",
       "      <td>25%</td>\n",
       "      <td>42.000000</td>\n",
       "    </tr>\n",
       "    <tr>\n",
       "      <td>50%</td>\n",
       "      <td>1258.000000</td>\n",
       "    </tr>\n",
       "    <tr>\n",
       "      <td>75%</td>\n",
       "      <td>2223.000000</td>\n",
       "    </tr>\n",
       "    <tr>\n",
       "      <td>max</td>\n",
       "      <td>5698.000000</td>\n",
       "    </tr>\n",
       "  </tbody>\n",
       "</table>\n",
       "</div>"
      ],
      "text/plain": [
       "          CLIENTES\n",
       "count   131.000000\n",
       "mean   1497.007634\n",
       "std    1510.022040\n",
       "min       2.000000\n",
       "25%      42.000000\n",
       "50%    1258.000000\n",
       "75%    2223.000000\n",
       "max    5698.000000"
      ]
     },
     "execution_count": 9,
     "metadata": {},
     "output_type": "execute_result"
    }
   ],
   "source": [
    "data.describe()"
   ]
  },
  {
   "cell_type": "code",
   "execution_count": 12,
   "metadata": {},
   "outputs": [
    {
     "name": "stdout",
     "output_type": "stream",
     "text": [
      "BANCO AV VILLAS\n",
      "BANCO CAJA SOCIAL\n",
      "BANCO DE BOGOTA\n",
      "BANCO POPULAR\n",
      "BANCO COLPATRIA\n",
      "BANCO DAVIVIENDA\n",
      "BANCOLOMBIA\n",
      "BANCO AGRARIO\n"
     ]
    }
   ],
   "source": [
    "for i in data[\"BANCO\"].unique():\n",
    "    print(i)"
   ]
  },
  {
   "cell_type": "code",
   "execution_count": 13,
   "metadata": {},
   "outputs": [
    {
     "data": {
      "text/html": [
       "<div>\n",
       "<style scoped>\n",
       "    .dataframe tbody tr th:only-of-type {\n",
       "        vertical-align: middle;\n",
       "    }\n",
       "\n",
       "    .dataframe tbody tr th {\n",
       "        vertical-align: top;\n",
       "    }\n",
       "\n",
       "    .dataframe thead th {\n",
       "        text-align: right;\n",
       "    }\n",
       "</style>\n",
       "<table border=\"1\" class=\"dataframe\">\n",
       "  <thead>\n",
       "    <tr style=\"text-align: right;\">\n",
       "      <th></th>\n",
       "      <th>fecha_reporte</th>\n",
       "      <th>CLIENTES</th>\n",
       "    </tr>\n",
       "    <tr>\n",
       "      <th>BANCO</th>\n",
       "      <th></th>\n",
       "      <th></th>\n",
       "    </tr>\n",
       "  </thead>\n",
       "  <tbody>\n",
       "    <tr>\n",
       "      <td>BANCO AGRARIO</td>\n",
       "      <td>6</td>\n",
       "      <td>6</td>\n",
       "    </tr>\n",
       "    <tr>\n",
       "      <td>BANCO AV VILLAS</td>\n",
       "      <td>20</td>\n",
       "      <td>20</td>\n",
       "    </tr>\n",
       "    <tr>\n",
       "      <td>BANCO CAJA SOCIAL</td>\n",
       "      <td>20</td>\n",
       "      <td>20</td>\n",
       "    </tr>\n",
       "    <tr>\n",
       "      <td>BANCO COLPATRIA</td>\n",
       "      <td>15</td>\n",
       "      <td>15</td>\n",
       "    </tr>\n",
       "    <tr>\n",
       "      <td>BANCO DAVIVIENDA</td>\n",
       "      <td>15</td>\n",
       "      <td>15</td>\n",
       "    </tr>\n",
       "    <tr>\n",
       "      <td>BANCO DE BOGOTA</td>\n",
       "      <td>20</td>\n",
       "      <td>20</td>\n",
       "    </tr>\n",
       "    <tr>\n",
       "      <td>BANCO POPULAR</td>\n",
       "      <td>20</td>\n",
       "      <td>20</td>\n",
       "    </tr>\n",
       "    <tr>\n",
       "      <td>BANCOLOMBIA</td>\n",
       "      <td>15</td>\n",
       "      <td>15</td>\n",
       "    </tr>\n",
       "  </tbody>\n",
       "</table>\n",
       "</div>"
      ],
      "text/plain": [
       "                   fecha_reporte  CLIENTES\n",
       "BANCO                                     \n",
       "BANCO AGRARIO                  6         6\n",
       "BANCO AV VILLAS               20        20\n",
       "BANCO CAJA SOCIAL             20        20\n",
       "BANCO COLPATRIA               15        15\n",
       "BANCO DAVIVIENDA              15        15\n",
       "BANCO DE BOGOTA               20        20\n",
       "BANCO POPULAR                 20        20\n",
       "BANCOLOMBIA                   15        15"
      ]
     },
     "execution_count": 13,
     "metadata": {},
     "output_type": "execute_result"
    }
   ],
   "source": [
    "data.groupby(\"BANCO\").count()"
   ]
  },
  {
   "cell_type": "code",
   "execution_count": 16,
   "metadata": {},
   "outputs": [
    {
     "data": {
      "text/html": [
       "<div>\n",
       "<style scoped>\n",
       "    .dataframe tbody tr th:only-of-type {\n",
       "        vertical-align: middle;\n",
       "    }\n",
       "\n",
       "    .dataframe tbody tr th {\n",
       "        vertical-align: top;\n",
       "    }\n",
       "\n",
       "    .dataframe thead th {\n",
       "        text-align: right;\n",
       "    }\n",
       "</style>\n",
       "<table border=\"1\" class=\"dataframe\">\n",
       "  <thead>\n",
       "    <tr style=\"text-align: right;\">\n",
       "      <th></th>\n",
       "      <th>BANCO</th>\n",
       "      <th>fecha_reporte</th>\n",
       "      <th>CLIENTES</th>\n",
       "    </tr>\n",
       "  </thead>\n",
       "  <tbody>\n",
       "    <tr>\n",
       "      <td>2</td>\n",
       "      <td>BANCO DE BOGOTA</td>\n",
       "      <td>2020-09-02</td>\n",
       "      <td>2130</td>\n",
       "    </tr>\n",
       "    <tr>\n",
       "      <td>6</td>\n",
       "      <td>BANCO DE BOGOTA</td>\n",
       "      <td>2020-09-03</td>\n",
       "      <td>2131</td>\n",
       "    </tr>\n",
       "    <tr>\n",
       "      <td>10</td>\n",
       "      <td>BANCO DE BOGOTA</td>\n",
       "      <td>2020-09-04</td>\n",
       "      <td>2157</td>\n",
       "    </tr>\n",
       "    <tr>\n",
       "      <td>14</td>\n",
       "      <td>BANCO DE BOGOTA</td>\n",
       "      <td>2020-09-05</td>\n",
       "      <td>2188</td>\n",
       "    </tr>\n",
       "    <tr>\n",
       "      <td>18</td>\n",
       "      <td>BANCO DE BOGOTA</td>\n",
       "      <td>2020-09-07</td>\n",
       "      <td>2222</td>\n",
       "    </tr>\n",
       "  </tbody>\n",
       "</table>\n",
       "</div>"
      ],
      "text/plain": [
       "              BANCO fecha_reporte  CLIENTES\n",
       "2   BANCO DE BOGOTA    2020-09-02      2130\n",
       "6   BANCO DE BOGOTA    2020-09-03      2131\n",
       "10  BANCO DE BOGOTA    2020-09-04      2157\n",
       "14  BANCO DE BOGOTA    2020-09-05      2188\n",
       "18  BANCO DE BOGOTA    2020-09-07      2222"
      ]
     },
     "execution_count": 16,
     "metadata": {},
     "output_type": "execute_result"
    }
   ],
   "source": [
    "data[data[\"BANCO\"] == \"BANCO DE BOGOTA\"].head()"
   ]
  },
  {
   "cell_type": "code",
   "execution_count": 23,
   "metadata": {},
   "outputs": [
    {
     "data": {
      "application/vnd.plotly.v1+json": {
       "config": {
        "plotlyServerURL": "https://plot.ly"
       },
       "data": [
        {
         "alignmentgroup": "True",
         "bingroup": "x",
         "hoverlabel": {
          "namelength": 0
         },
         "hovertemplate": "fecha_reporte=%{x}<br>count of CLIENTES=%{y}",
         "legendgroup": "",
         "marker": {
          "color": "#636efa"
         },
         "name": "",
         "offsetgroup": "",
         "orientation": "v",
         "showlegend": false,
         "type": "histogram",
         "x": [
          "2020-09-02T00:00:00",
          "2020-09-03T00:00:00",
          "2020-09-04T00:00:00",
          "2020-09-05T00:00:00",
          "2020-09-07T00:00:00",
          "2020-09-08T00:00:00",
          "2020-09-09T00:00:00",
          "2020-09-10T00:00:00",
          "2020-09-11T00:00:00",
          "2020-09-14T00:00:00",
          "2020-09-15T00:00:00",
          "2020-09-16T00:00:00",
          "2020-09-17T00:00:00",
          "2020-09-18T00:00:00",
          "2020-09-19T00:00:00",
          "2020-09-20T00:00:00",
          "2020-09-21T00:00:00",
          "2020-09-22T00:00:00",
          "2020-09-23T00:00:00",
          "2020-09-24T00:00:00"
         ],
         "xaxis": "x",
         "y": [
          42,
          42,
          42,
          42,
          42,
          42,
          42,
          41,
          41,
          41,
          41,
          41,
          41,
          42,
          42,
          42,
          42,
          42,
          42,
          42
         ],
         "yaxis": "y"
        }
       ],
       "layout": {
        "barmode": "relative",
        "height": 600,
        "legend": {
         "tracegroupgap": 0
        },
        "margin": {
         "t": 60
        },
        "template": {
         "data": {
          "bar": [
           {
            "error_x": {
             "color": "#2a3f5f"
            },
            "error_y": {
             "color": "#2a3f5f"
            },
            "marker": {
             "line": {
              "color": "#E5ECF6",
              "width": 0.5
             }
            },
            "type": "bar"
           }
          ],
          "barpolar": [
           {
            "marker": {
             "line": {
              "color": "#E5ECF6",
              "width": 0.5
             }
            },
            "type": "barpolar"
           }
          ],
          "carpet": [
           {
            "aaxis": {
             "endlinecolor": "#2a3f5f",
             "gridcolor": "white",
             "linecolor": "white",
             "minorgridcolor": "white",
             "startlinecolor": "#2a3f5f"
            },
            "baxis": {
             "endlinecolor": "#2a3f5f",
             "gridcolor": "white",
             "linecolor": "white",
             "minorgridcolor": "white",
             "startlinecolor": "#2a3f5f"
            },
            "type": "carpet"
           }
          ],
          "choropleth": [
           {
            "colorbar": {
             "outlinewidth": 0,
             "ticks": ""
            },
            "type": "choropleth"
           }
          ],
          "contour": [
           {
            "colorbar": {
             "outlinewidth": 0,
             "ticks": ""
            },
            "colorscale": [
             [
              0,
              "#0d0887"
             ],
             [
              0.1111111111111111,
              "#46039f"
             ],
             [
              0.2222222222222222,
              "#7201a8"
             ],
             [
              0.3333333333333333,
              "#9c179e"
             ],
             [
              0.4444444444444444,
              "#bd3786"
             ],
             [
              0.5555555555555556,
              "#d8576b"
             ],
             [
              0.6666666666666666,
              "#ed7953"
             ],
             [
              0.7777777777777778,
              "#fb9f3a"
             ],
             [
              0.8888888888888888,
              "#fdca26"
             ],
             [
              1,
              "#f0f921"
             ]
            ],
            "type": "contour"
           }
          ],
          "contourcarpet": [
           {
            "colorbar": {
             "outlinewidth": 0,
             "ticks": ""
            },
            "type": "contourcarpet"
           }
          ],
          "heatmap": [
           {
            "colorbar": {
             "outlinewidth": 0,
             "ticks": ""
            },
            "colorscale": [
             [
              0,
              "#0d0887"
             ],
             [
              0.1111111111111111,
              "#46039f"
             ],
             [
              0.2222222222222222,
              "#7201a8"
             ],
             [
              0.3333333333333333,
              "#9c179e"
             ],
             [
              0.4444444444444444,
              "#bd3786"
             ],
             [
              0.5555555555555556,
              "#d8576b"
             ],
             [
              0.6666666666666666,
              "#ed7953"
             ],
             [
              0.7777777777777778,
              "#fb9f3a"
             ],
             [
              0.8888888888888888,
              "#fdca26"
             ],
             [
              1,
              "#f0f921"
             ]
            ],
            "type": "heatmap"
           }
          ],
          "heatmapgl": [
           {
            "colorbar": {
             "outlinewidth": 0,
             "ticks": ""
            },
            "colorscale": [
             [
              0,
              "#0d0887"
             ],
             [
              0.1111111111111111,
              "#46039f"
             ],
             [
              0.2222222222222222,
              "#7201a8"
             ],
             [
              0.3333333333333333,
              "#9c179e"
             ],
             [
              0.4444444444444444,
              "#bd3786"
             ],
             [
              0.5555555555555556,
              "#d8576b"
             ],
             [
              0.6666666666666666,
              "#ed7953"
             ],
             [
              0.7777777777777778,
              "#fb9f3a"
             ],
             [
              0.8888888888888888,
              "#fdca26"
             ],
             [
              1,
              "#f0f921"
             ]
            ],
            "type": "heatmapgl"
           }
          ],
          "histogram": [
           {
            "marker": {
             "colorbar": {
              "outlinewidth": 0,
              "ticks": ""
             }
            },
            "type": "histogram"
           }
          ],
          "histogram2d": [
           {
            "colorbar": {
             "outlinewidth": 0,
             "ticks": ""
            },
            "colorscale": [
             [
              0,
              "#0d0887"
             ],
             [
              0.1111111111111111,
              "#46039f"
             ],
             [
              0.2222222222222222,
              "#7201a8"
             ],
             [
              0.3333333333333333,
              "#9c179e"
             ],
             [
              0.4444444444444444,
              "#bd3786"
             ],
             [
              0.5555555555555556,
              "#d8576b"
             ],
             [
              0.6666666666666666,
              "#ed7953"
             ],
             [
              0.7777777777777778,
              "#fb9f3a"
             ],
             [
              0.8888888888888888,
              "#fdca26"
             ],
             [
              1,
              "#f0f921"
             ]
            ],
            "type": "histogram2d"
           }
          ],
          "histogram2dcontour": [
           {
            "colorbar": {
             "outlinewidth": 0,
             "ticks": ""
            },
            "colorscale": [
             [
              0,
              "#0d0887"
             ],
             [
              0.1111111111111111,
              "#46039f"
             ],
             [
              0.2222222222222222,
              "#7201a8"
             ],
             [
              0.3333333333333333,
              "#9c179e"
             ],
             [
              0.4444444444444444,
              "#bd3786"
             ],
             [
              0.5555555555555556,
              "#d8576b"
             ],
             [
              0.6666666666666666,
              "#ed7953"
             ],
             [
              0.7777777777777778,
              "#fb9f3a"
             ],
             [
              0.8888888888888888,
              "#fdca26"
             ],
             [
              1,
              "#f0f921"
             ]
            ],
            "type": "histogram2dcontour"
           }
          ],
          "mesh3d": [
           {
            "colorbar": {
             "outlinewidth": 0,
             "ticks": ""
            },
            "type": "mesh3d"
           }
          ],
          "parcoords": [
           {
            "line": {
             "colorbar": {
              "outlinewidth": 0,
              "ticks": ""
             }
            },
            "type": "parcoords"
           }
          ],
          "pie": [
           {
            "automargin": true,
            "type": "pie"
           }
          ],
          "scatter": [
           {
            "marker": {
             "colorbar": {
              "outlinewidth": 0,
              "ticks": ""
             }
            },
            "type": "scatter"
           }
          ],
          "scatter3d": [
           {
            "line": {
             "colorbar": {
              "outlinewidth": 0,
              "ticks": ""
             }
            },
            "marker": {
             "colorbar": {
              "outlinewidth": 0,
              "ticks": ""
             }
            },
            "type": "scatter3d"
           }
          ],
          "scattercarpet": [
           {
            "marker": {
             "colorbar": {
              "outlinewidth": 0,
              "ticks": ""
             }
            },
            "type": "scattercarpet"
           }
          ],
          "scattergeo": [
           {
            "marker": {
             "colorbar": {
              "outlinewidth": 0,
              "ticks": ""
             }
            },
            "type": "scattergeo"
           }
          ],
          "scattergl": [
           {
            "marker": {
             "colorbar": {
              "outlinewidth": 0,
              "ticks": ""
             }
            },
            "type": "scattergl"
           }
          ],
          "scattermapbox": [
           {
            "marker": {
             "colorbar": {
              "outlinewidth": 0,
              "ticks": ""
             }
            },
            "type": "scattermapbox"
           }
          ],
          "scatterpolar": [
           {
            "marker": {
             "colorbar": {
              "outlinewidth": 0,
              "ticks": ""
             }
            },
            "type": "scatterpolar"
           }
          ],
          "scatterpolargl": [
           {
            "marker": {
             "colorbar": {
              "outlinewidth": 0,
              "ticks": ""
             }
            },
            "type": "scatterpolargl"
           }
          ],
          "scatterternary": [
           {
            "marker": {
             "colorbar": {
              "outlinewidth": 0,
              "ticks": ""
             }
            },
            "type": "scatterternary"
           }
          ],
          "surface": [
           {
            "colorbar": {
             "outlinewidth": 0,
             "ticks": ""
            },
            "colorscale": [
             [
              0,
              "#0d0887"
             ],
             [
              0.1111111111111111,
              "#46039f"
             ],
             [
              0.2222222222222222,
              "#7201a8"
             ],
             [
              0.3333333333333333,
              "#9c179e"
             ],
             [
              0.4444444444444444,
              "#bd3786"
             ],
             [
              0.5555555555555556,
              "#d8576b"
             ],
             [
              0.6666666666666666,
              "#ed7953"
             ],
             [
              0.7777777777777778,
              "#fb9f3a"
             ],
             [
              0.8888888888888888,
              "#fdca26"
             ],
             [
              1,
              "#f0f921"
             ]
            ],
            "type": "surface"
           }
          ],
          "table": [
           {
            "cells": {
             "fill": {
              "color": "#EBF0F8"
             },
             "line": {
              "color": "white"
             }
            },
            "header": {
             "fill": {
              "color": "#C8D4E3"
             },
             "line": {
              "color": "white"
             }
            },
            "type": "table"
           }
          ]
         },
         "layout": {
          "annotationdefaults": {
           "arrowcolor": "#2a3f5f",
           "arrowhead": 0,
           "arrowwidth": 1
          },
          "coloraxis": {
           "colorbar": {
            "outlinewidth": 0,
            "ticks": ""
           }
          },
          "colorscale": {
           "diverging": [
            [
             0,
             "#8e0152"
            ],
            [
             0.1,
             "#c51b7d"
            ],
            [
             0.2,
             "#de77ae"
            ],
            [
             0.3,
             "#f1b6da"
            ],
            [
             0.4,
             "#fde0ef"
            ],
            [
             0.5,
             "#f7f7f7"
            ],
            [
             0.6,
             "#e6f5d0"
            ],
            [
             0.7,
             "#b8e186"
            ],
            [
             0.8,
             "#7fbc41"
            ],
            [
             0.9,
             "#4d9221"
            ],
            [
             1,
             "#276419"
            ]
           ],
           "sequential": [
            [
             0,
             "#0d0887"
            ],
            [
             0.1111111111111111,
             "#46039f"
            ],
            [
             0.2222222222222222,
             "#7201a8"
            ],
            [
             0.3333333333333333,
             "#9c179e"
            ],
            [
             0.4444444444444444,
             "#bd3786"
            ],
            [
             0.5555555555555556,
             "#d8576b"
            ],
            [
             0.6666666666666666,
             "#ed7953"
            ],
            [
             0.7777777777777778,
             "#fb9f3a"
            ],
            [
             0.8888888888888888,
             "#fdca26"
            ],
            [
             1,
             "#f0f921"
            ]
           ],
           "sequentialminus": [
            [
             0,
             "#0d0887"
            ],
            [
             0.1111111111111111,
             "#46039f"
            ],
            [
             0.2222222222222222,
             "#7201a8"
            ],
            [
             0.3333333333333333,
             "#9c179e"
            ],
            [
             0.4444444444444444,
             "#bd3786"
            ],
            [
             0.5555555555555556,
             "#d8576b"
            ],
            [
             0.6666666666666666,
             "#ed7953"
            ],
            [
             0.7777777777777778,
             "#fb9f3a"
            ],
            [
             0.8888888888888888,
             "#fdca26"
            ],
            [
             1,
             "#f0f921"
            ]
           ]
          },
          "colorway": [
           "#636efa",
           "#EF553B",
           "#00cc96",
           "#ab63fa",
           "#FFA15A",
           "#19d3f3",
           "#FF6692",
           "#B6E880",
           "#FF97FF",
           "#FECB52"
          ],
          "font": {
           "color": "#2a3f5f"
          },
          "geo": {
           "bgcolor": "white",
           "lakecolor": "white",
           "landcolor": "#E5ECF6",
           "showlakes": true,
           "showland": true,
           "subunitcolor": "white"
          },
          "hoverlabel": {
           "align": "left"
          },
          "hovermode": "closest",
          "mapbox": {
           "style": "light"
          },
          "paper_bgcolor": "white",
          "plot_bgcolor": "#E5ECF6",
          "polar": {
           "angularaxis": {
            "gridcolor": "white",
            "linecolor": "white",
            "ticks": ""
           },
           "bgcolor": "#E5ECF6",
           "radialaxis": {
            "gridcolor": "white",
            "linecolor": "white",
            "ticks": ""
           }
          },
          "scene": {
           "xaxis": {
            "backgroundcolor": "#E5ECF6",
            "gridcolor": "white",
            "gridwidth": 2,
            "linecolor": "white",
            "showbackground": true,
            "ticks": "",
            "zerolinecolor": "white"
           },
           "yaxis": {
            "backgroundcolor": "#E5ECF6",
            "gridcolor": "white",
            "gridwidth": 2,
            "linecolor": "white",
            "showbackground": true,
            "ticks": "",
            "zerolinecolor": "white"
           },
           "zaxis": {
            "backgroundcolor": "#E5ECF6",
            "gridcolor": "white",
            "gridwidth": 2,
            "linecolor": "white",
            "showbackground": true,
            "ticks": "",
            "zerolinecolor": "white"
           }
          },
          "shapedefaults": {
           "line": {
            "color": "#2a3f5f"
           }
          },
          "ternary": {
           "aaxis": {
            "gridcolor": "white",
            "linecolor": "white",
            "ticks": ""
           },
           "baxis": {
            "gridcolor": "white",
            "linecolor": "white",
            "ticks": ""
           },
           "bgcolor": "#E5ECF6",
           "caxis": {
            "gridcolor": "white",
            "linecolor": "white",
            "ticks": ""
           }
          },
          "title": {
           "x": 0.05
          },
          "xaxis": {
           "automargin": true,
           "gridcolor": "white",
           "linecolor": "white",
           "ticks": "",
           "title": {
            "standoff": 15
           },
           "zerolinecolor": "white",
           "zerolinewidth": 2
          },
          "yaxis": {
           "automargin": true,
           "gridcolor": "white",
           "linecolor": "white",
           "ticks": "",
           "title": {
            "standoff": 15
           },
           "zerolinecolor": "white",
           "zerolinewidth": 2
          }
         }
        },
        "xaxis": {
         "anchor": "y",
         "domain": [
          0,
          1
         ],
         "title": {
          "text": "fecha_reporte"
         }
        },
        "yaxis": {
         "anchor": "x",
         "domain": [
          0,
          1
         ],
         "title": {
          "text": "count of CLIENTES"
         }
        }
       }
      },
      "text/html": [
       "<div>\n",
       "        \n",
       "        \n",
       "            <div id=\"bd5b6b96-6a19-44ed-a6c6-1efa42de5528\" class=\"plotly-graph-div\" style=\"height:600px; width:100%;\"></div>\n",
       "            <script type=\"text/javascript\">\n",
       "                require([\"plotly\"], function(Plotly) {\n",
       "                    window.PLOTLYENV=window.PLOTLYENV || {};\n",
       "                    \n",
       "                if (document.getElementById(\"bd5b6b96-6a19-44ed-a6c6-1efa42de5528\")) {\n",
       "                    Plotly.newPlot(\n",
       "                        'bd5b6b96-6a19-44ed-a6c6-1efa42de5528',\n",
       "                        [{\"alignmentgroup\": \"True\", \"bingroup\": \"x\", \"hoverlabel\": {\"namelength\": 0}, \"hovertemplate\": \"fecha_reporte=%{x}<br>count of CLIENTES=%{y}\", \"legendgroup\": \"\", \"marker\": {\"color\": \"#636efa\"}, \"name\": \"\", \"offsetgroup\": \"\", \"orientation\": \"v\", \"showlegend\": false, \"type\": \"histogram\", \"x\": [\"2020-09-02T00:00:00\", \"2020-09-03T00:00:00\", \"2020-09-04T00:00:00\", \"2020-09-05T00:00:00\", \"2020-09-07T00:00:00\", \"2020-09-08T00:00:00\", \"2020-09-09T00:00:00\", \"2020-09-10T00:00:00\", \"2020-09-11T00:00:00\", \"2020-09-14T00:00:00\", \"2020-09-15T00:00:00\", \"2020-09-16T00:00:00\", \"2020-09-17T00:00:00\", \"2020-09-18T00:00:00\", \"2020-09-19T00:00:00\", \"2020-09-20T00:00:00\", \"2020-09-21T00:00:00\", \"2020-09-22T00:00:00\", \"2020-09-23T00:00:00\", \"2020-09-24T00:00:00\"], \"xaxis\": \"x\", \"y\": [42, 42, 42, 42, 42, 42, 42, 41, 41, 41, 41, 41, 41, 42, 42, 42, 42, 42, 42, 42], \"yaxis\": \"y\"}],\n",
       "                        {\"barmode\": \"relative\", \"height\": 600, \"legend\": {\"tracegroupgap\": 0}, \"margin\": {\"t\": 60}, \"template\": {\"data\": {\"bar\": [{\"error_x\": {\"color\": \"#2a3f5f\"}, \"error_y\": {\"color\": \"#2a3f5f\"}, \"marker\": {\"line\": {\"color\": \"#E5ECF6\", \"width\": 0.5}}, \"type\": \"bar\"}], \"barpolar\": [{\"marker\": {\"line\": {\"color\": \"#E5ECF6\", \"width\": 0.5}}, \"type\": \"barpolar\"}], \"carpet\": [{\"aaxis\": {\"endlinecolor\": \"#2a3f5f\", \"gridcolor\": \"white\", \"linecolor\": \"white\", \"minorgridcolor\": \"white\", \"startlinecolor\": \"#2a3f5f\"}, \"baxis\": {\"endlinecolor\": \"#2a3f5f\", \"gridcolor\": \"white\", \"linecolor\": \"white\", \"minorgridcolor\": \"white\", \"startlinecolor\": \"#2a3f5f\"}, \"type\": \"carpet\"}], \"choropleth\": [{\"colorbar\": {\"outlinewidth\": 0, \"ticks\": \"\"}, \"type\": \"choropleth\"}], \"contour\": [{\"colorbar\": {\"outlinewidth\": 0, \"ticks\": \"\"}, \"colorscale\": [[0.0, \"#0d0887\"], [0.1111111111111111, \"#46039f\"], [0.2222222222222222, \"#7201a8\"], [0.3333333333333333, \"#9c179e\"], [0.4444444444444444, \"#bd3786\"], [0.5555555555555556, \"#d8576b\"], [0.6666666666666666, \"#ed7953\"], [0.7777777777777778, \"#fb9f3a\"], [0.8888888888888888, \"#fdca26\"], [1.0, \"#f0f921\"]], \"type\": \"contour\"}], \"contourcarpet\": [{\"colorbar\": {\"outlinewidth\": 0, \"ticks\": \"\"}, \"type\": \"contourcarpet\"}], \"heatmap\": [{\"colorbar\": {\"outlinewidth\": 0, \"ticks\": \"\"}, \"colorscale\": [[0.0, \"#0d0887\"], [0.1111111111111111, \"#46039f\"], [0.2222222222222222, \"#7201a8\"], [0.3333333333333333, \"#9c179e\"], [0.4444444444444444, \"#bd3786\"], [0.5555555555555556, \"#d8576b\"], [0.6666666666666666, \"#ed7953\"], [0.7777777777777778, \"#fb9f3a\"], [0.8888888888888888, \"#fdca26\"], [1.0, \"#f0f921\"]], \"type\": \"heatmap\"}], \"heatmapgl\": [{\"colorbar\": {\"outlinewidth\": 0, \"ticks\": \"\"}, \"colorscale\": [[0.0, \"#0d0887\"], [0.1111111111111111, \"#46039f\"], [0.2222222222222222, \"#7201a8\"], [0.3333333333333333, \"#9c179e\"], [0.4444444444444444, \"#bd3786\"], [0.5555555555555556, \"#d8576b\"], [0.6666666666666666, \"#ed7953\"], [0.7777777777777778, \"#fb9f3a\"], [0.8888888888888888, \"#fdca26\"], [1.0, \"#f0f921\"]], \"type\": \"heatmapgl\"}], \"histogram\": [{\"marker\": {\"colorbar\": {\"outlinewidth\": 0, \"ticks\": \"\"}}, \"type\": \"histogram\"}], \"histogram2d\": [{\"colorbar\": {\"outlinewidth\": 0, \"ticks\": \"\"}, \"colorscale\": [[0.0, \"#0d0887\"], [0.1111111111111111, \"#46039f\"], [0.2222222222222222, \"#7201a8\"], [0.3333333333333333, \"#9c179e\"], [0.4444444444444444, \"#bd3786\"], [0.5555555555555556, \"#d8576b\"], [0.6666666666666666, \"#ed7953\"], [0.7777777777777778, \"#fb9f3a\"], [0.8888888888888888, \"#fdca26\"], [1.0, \"#f0f921\"]], \"type\": \"histogram2d\"}], \"histogram2dcontour\": [{\"colorbar\": {\"outlinewidth\": 0, \"ticks\": \"\"}, \"colorscale\": [[0.0, \"#0d0887\"], [0.1111111111111111, \"#46039f\"], [0.2222222222222222, \"#7201a8\"], [0.3333333333333333, \"#9c179e\"], [0.4444444444444444, \"#bd3786\"], [0.5555555555555556, \"#d8576b\"], [0.6666666666666666, \"#ed7953\"], [0.7777777777777778, \"#fb9f3a\"], [0.8888888888888888, \"#fdca26\"], [1.0, \"#f0f921\"]], \"type\": \"histogram2dcontour\"}], \"mesh3d\": [{\"colorbar\": {\"outlinewidth\": 0, \"ticks\": \"\"}, \"type\": \"mesh3d\"}], \"parcoords\": [{\"line\": {\"colorbar\": {\"outlinewidth\": 0, \"ticks\": \"\"}}, \"type\": \"parcoords\"}], \"pie\": [{\"automargin\": true, \"type\": \"pie\"}], \"scatter\": [{\"marker\": {\"colorbar\": {\"outlinewidth\": 0, \"ticks\": \"\"}}, \"type\": \"scatter\"}], \"scatter3d\": [{\"line\": {\"colorbar\": {\"outlinewidth\": 0, \"ticks\": \"\"}}, \"marker\": {\"colorbar\": {\"outlinewidth\": 0, \"ticks\": \"\"}}, \"type\": \"scatter3d\"}], \"scattercarpet\": [{\"marker\": {\"colorbar\": {\"outlinewidth\": 0, \"ticks\": \"\"}}, \"type\": \"scattercarpet\"}], \"scattergeo\": [{\"marker\": {\"colorbar\": {\"outlinewidth\": 0, \"ticks\": \"\"}}, \"type\": \"scattergeo\"}], \"scattergl\": [{\"marker\": {\"colorbar\": {\"outlinewidth\": 0, \"ticks\": \"\"}}, \"type\": \"scattergl\"}], \"scattermapbox\": [{\"marker\": {\"colorbar\": {\"outlinewidth\": 0, \"ticks\": \"\"}}, \"type\": \"scattermapbox\"}], \"scatterpolar\": [{\"marker\": {\"colorbar\": {\"outlinewidth\": 0, \"ticks\": \"\"}}, \"type\": \"scatterpolar\"}], \"scatterpolargl\": [{\"marker\": {\"colorbar\": {\"outlinewidth\": 0, \"ticks\": \"\"}}, \"type\": \"scatterpolargl\"}], \"scatterternary\": [{\"marker\": {\"colorbar\": {\"outlinewidth\": 0, \"ticks\": \"\"}}, \"type\": \"scatterternary\"}], \"surface\": [{\"colorbar\": {\"outlinewidth\": 0, \"ticks\": \"\"}, \"colorscale\": [[0.0, \"#0d0887\"], [0.1111111111111111, \"#46039f\"], [0.2222222222222222, \"#7201a8\"], [0.3333333333333333, \"#9c179e\"], [0.4444444444444444, \"#bd3786\"], [0.5555555555555556, \"#d8576b\"], [0.6666666666666666, \"#ed7953\"], [0.7777777777777778, \"#fb9f3a\"], [0.8888888888888888, \"#fdca26\"], [1.0, \"#f0f921\"]], \"type\": \"surface\"}], \"table\": [{\"cells\": {\"fill\": {\"color\": \"#EBF0F8\"}, \"line\": {\"color\": \"white\"}}, \"header\": {\"fill\": {\"color\": \"#C8D4E3\"}, \"line\": {\"color\": \"white\"}}, \"type\": \"table\"}]}, \"layout\": {\"annotationdefaults\": {\"arrowcolor\": \"#2a3f5f\", \"arrowhead\": 0, \"arrowwidth\": 1}, \"coloraxis\": {\"colorbar\": {\"outlinewidth\": 0, \"ticks\": \"\"}}, \"colorscale\": {\"diverging\": [[0, \"#8e0152\"], [0.1, \"#c51b7d\"], [0.2, \"#de77ae\"], [0.3, \"#f1b6da\"], [0.4, \"#fde0ef\"], [0.5, \"#f7f7f7\"], [0.6, \"#e6f5d0\"], [0.7, \"#b8e186\"], [0.8, \"#7fbc41\"], [0.9, \"#4d9221\"], [1, \"#276419\"]], \"sequential\": [[0.0, \"#0d0887\"], [0.1111111111111111, \"#46039f\"], [0.2222222222222222, \"#7201a8\"], [0.3333333333333333, \"#9c179e\"], [0.4444444444444444, \"#bd3786\"], [0.5555555555555556, \"#d8576b\"], [0.6666666666666666, \"#ed7953\"], [0.7777777777777778, \"#fb9f3a\"], [0.8888888888888888, \"#fdca26\"], [1.0, \"#f0f921\"]], \"sequentialminus\": [[0.0, \"#0d0887\"], [0.1111111111111111, \"#46039f\"], [0.2222222222222222, \"#7201a8\"], [0.3333333333333333, \"#9c179e\"], [0.4444444444444444, \"#bd3786\"], [0.5555555555555556, \"#d8576b\"], [0.6666666666666666, \"#ed7953\"], [0.7777777777777778, \"#fb9f3a\"], [0.8888888888888888, \"#fdca26\"], [1.0, \"#f0f921\"]]}, \"colorway\": [\"#636efa\", \"#EF553B\", \"#00cc96\", \"#ab63fa\", \"#FFA15A\", \"#19d3f3\", \"#FF6692\", \"#B6E880\", \"#FF97FF\", \"#FECB52\"], \"font\": {\"color\": \"#2a3f5f\"}, \"geo\": {\"bgcolor\": \"white\", \"lakecolor\": \"white\", \"landcolor\": \"#E5ECF6\", \"showlakes\": true, \"showland\": true, \"subunitcolor\": \"white\"}, \"hoverlabel\": {\"align\": \"left\"}, \"hovermode\": \"closest\", \"mapbox\": {\"style\": \"light\"}, \"paper_bgcolor\": \"white\", \"plot_bgcolor\": \"#E5ECF6\", \"polar\": {\"angularaxis\": {\"gridcolor\": \"white\", \"linecolor\": \"white\", \"ticks\": \"\"}, \"bgcolor\": \"#E5ECF6\", \"radialaxis\": {\"gridcolor\": \"white\", \"linecolor\": \"white\", \"ticks\": \"\"}}, \"scene\": {\"xaxis\": {\"backgroundcolor\": \"#E5ECF6\", \"gridcolor\": \"white\", \"gridwidth\": 2, \"linecolor\": \"white\", \"showbackground\": true, \"ticks\": \"\", \"zerolinecolor\": \"white\"}, \"yaxis\": {\"backgroundcolor\": \"#E5ECF6\", \"gridcolor\": \"white\", \"gridwidth\": 2, \"linecolor\": \"white\", \"showbackground\": true, \"ticks\": \"\", \"zerolinecolor\": \"white\"}, \"zaxis\": {\"backgroundcolor\": \"#E5ECF6\", \"gridcolor\": \"white\", \"gridwidth\": 2, \"linecolor\": \"white\", \"showbackground\": true, \"ticks\": \"\", \"zerolinecolor\": \"white\"}}, \"shapedefaults\": {\"line\": {\"color\": \"#2a3f5f\"}}, \"ternary\": {\"aaxis\": {\"gridcolor\": \"white\", \"linecolor\": \"white\", \"ticks\": \"\"}, \"baxis\": {\"gridcolor\": \"white\", \"linecolor\": \"white\", \"ticks\": \"\"}, \"bgcolor\": \"#E5ECF6\", \"caxis\": {\"gridcolor\": \"white\", \"linecolor\": \"white\", \"ticks\": \"\"}}, \"title\": {\"x\": 0.05}, \"xaxis\": {\"automargin\": true, \"gridcolor\": \"white\", \"linecolor\": \"white\", \"ticks\": \"\", \"title\": {\"standoff\": 15}, \"zerolinecolor\": \"white\", \"zerolinewidth\": 2}, \"yaxis\": {\"automargin\": true, \"gridcolor\": \"white\", \"linecolor\": \"white\", \"ticks\": \"\", \"title\": {\"standoff\": 15}, \"zerolinecolor\": \"white\", \"zerolinewidth\": 2}}}, \"xaxis\": {\"anchor\": \"y\", \"domain\": [0.0, 1.0], \"title\": {\"text\": \"fecha_reporte\"}}, \"yaxis\": {\"anchor\": \"x\", \"domain\": [0.0, 1.0], \"title\": {\"text\": \"count of CLIENTES\"}}},\n",
       "                        {\"responsive\": true}\n",
       "                    ).then(function(){\n",
       "                            \n",
       "var gd = document.getElementById('bd5b6b96-6a19-44ed-a6c6-1efa42de5528');\n",
       "var x = new MutationObserver(function (mutations, observer) {{\n",
       "        var display = window.getComputedStyle(gd).display;\n",
       "        if (!display || display === 'none') {{\n",
       "            console.log([gd, 'removed!']);\n",
       "            Plotly.purge(gd);\n",
       "            observer.disconnect();\n",
       "        }}\n",
       "}});\n",
       "\n",
       "// Listen for the removal of the full notebook cells\n",
       "var notebookContainer = gd.closest('#notebook-container');\n",
       "if (notebookContainer) {{\n",
       "    x.observe(notebookContainer, {childList: true});\n",
       "}}\n",
       "\n",
       "// Listen for the clearing of the current output cell\n",
       "var outputEl = gd.closest('.output');\n",
       "if (outputEl) {{\n",
       "    x.observe(outputEl, {childList: true});\n",
       "}}\n",
       "\n",
       "                        })\n",
       "                };\n",
       "                });\n",
       "            </script>\n",
       "        </div>"
      ]
     },
     "metadata": {},
     "output_type": "display_data"
    }
   ],
   "source": [
    "import plotly.express as px\n",
    "\n",
    "\n",
    "colpatria = data[data[\"BANCO\"] == \"BANCO CAJA SOCIAL\"]\n",
    "\n",
    "fig = px.histogram(colpatria, x=\"fecha_reporte\", y=\"CLIENTES\")\n",
    "fig.show()\n"
   ]
  },
  {
   "cell_type": "code",
   "execution_count": 25,
   "metadata": {},
   "outputs": [
    {
     "data": {
      "image/png": "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\n",
      "text/plain": [
       "<Figure size 432x288 with 1 Axes>"
      ]
     },
     "metadata": {
      "needs_background": "light"
     },
     "output_type": "display_data"
    }
   ],
   "source": [
    "import matplotlib.pyplot as plt\n",
    "\n",
    "colpatria = data[data[\"BANCO\"] == \"BANCO CAJA SOCIAL\"]\n",
    "\n",
    "plt.plot(colpatria[\"CLIENTES\"])\n",
    "plt.ylabel(\"Clientes\")\n",
    "plt.xlabel(\"Fecha\")\n",
    "plt.show()\n",
    "\n"
   ]
  },
  {
   "cell_type": "code",
   "execution_count": 26,
   "metadata": {},
   "outputs": [
    {
     "data": {
      "application/vnd.plotly.v1+json": {
       "config": {
        "plotlyServerURL": "https://plot.ly"
       },
       "data": [
        {
         "alignmentgroup": "True",
         "hoverlabel": {
          "namelength": 0
         },
         "hovertemplate": "CLIENTES=%{y}",
         "legendgroup": "",
         "marker": {
          "color": "#636efa"
         },
         "name": "",
         "notched": false,
         "offsetgroup": "",
         "orientation": "v",
         "showlegend": false,
         "type": "box",
         "x0": " ",
         "xaxis": "x",
         "y": [
          5,
          8,
          10,
          10,
          22,
          32,
          38,
          52,
          61,
          70,
          78,
          86,
          89,
          93,
          98
         ],
         "y0": " ",
         "yaxis": "y"
        }
       ],
       "layout": {
        "boxmode": "group",
        "height": 600,
        "legend": {
         "tracegroupgap": 0
        },
        "margin": {
         "t": 60
        },
        "template": {
         "data": {
          "bar": [
           {
            "error_x": {
             "color": "#2a3f5f"
            },
            "error_y": {
             "color": "#2a3f5f"
            },
            "marker": {
             "line": {
              "color": "#E5ECF6",
              "width": 0.5
             }
            },
            "type": "bar"
           }
          ],
          "barpolar": [
           {
            "marker": {
             "line": {
              "color": "#E5ECF6",
              "width": 0.5
             }
            },
            "type": "barpolar"
           }
          ],
          "carpet": [
           {
            "aaxis": {
             "endlinecolor": "#2a3f5f",
             "gridcolor": "white",
             "linecolor": "white",
             "minorgridcolor": "white",
             "startlinecolor": "#2a3f5f"
            },
            "baxis": {
             "endlinecolor": "#2a3f5f",
             "gridcolor": "white",
             "linecolor": "white",
             "minorgridcolor": "white",
             "startlinecolor": "#2a3f5f"
            },
            "type": "carpet"
           }
          ],
          "choropleth": [
           {
            "colorbar": {
             "outlinewidth": 0,
             "ticks": ""
            },
            "type": "choropleth"
           }
          ],
          "contour": [
           {
            "colorbar": {
             "outlinewidth": 0,
             "ticks": ""
            },
            "colorscale": [
             [
              0,
              "#0d0887"
             ],
             [
              0.1111111111111111,
              "#46039f"
             ],
             [
              0.2222222222222222,
              "#7201a8"
             ],
             [
              0.3333333333333333,
              "#9c179e"
             ],
             [
              0.4444444444444444,
              "#bd3786"
             ],
             [
              0.5555555555555556,
              "#d8576b"
             ],
             [
              0.6666666666666666,
              "#ed7953"
             ],
             [
              0.7777777777777778,
              "#fb9f3a"
             ],
             [
              0.8888888888888888,
              "#fdca26"
             ],
             [
              1,
              "#f0f921"
             ]
            ],
            "type": "contour"
           }
          ],
          "contourcarpet": [
           {
            "colorbar": {
             "outlinewidth": 0,
             "ticks": ""
            },
            "type": "contourcarpet"
           }
          ],
          "heatmap": [
           {
            "colorbar": {
             "outlinewidth": 0,
             "ticks": ""
            },
            "colorscale": [
             [
              0,
              "#0d0887"
             ],
             [
              0.1111111111111111,
              "#46039f"
             ],
             [
              0.2222222222222222,
              "#7201a8"
             ],
             [
              0.3333333333333333,
              "#9c179e"
             ],
             [
              0.4444444444444444,
              "#bd3786"
             ],
             [
              0.5555555555555556,
              "#d8576b"
             ],
             [
              0.6666666666666666,
              "#ed7953"
             ],
             [
              0.7777777777777778,
              "#fb9f3a"
             ],
             [
              0.8888888888888888,
              "#fdca26"
             ],
             [
              1,
              "#f0f921"
             ]
            ],
            "type": "heatmap"
           }
          ],
          "heatmapgl": [
           {
            "colorbar": {
             "outlinewidth": 0,
             "ticks": ""
            },
            "colorscale": [
             [
              0,
              "#0d0887"
             ],
             [
              0.1111111111111111,
              "#46039f"
             ],
             [
              0.2222222222222222,
              "#7201a8"
             ],
             [
              0.3333333333333333,
              "#9c179e"
             ],
             [
              0.4444444444444444,
              "#bd3786"
             ],
             [
              0.5555555555555556,
              "#d8576b"
             ],
             [
              0.6666666666666666,
              "#ed7953"
             ],
             [
              0.7777777777777778,
              "#fb9f3a"
             ],
             [
              0.8888888888888888,
              "#fdca26"
             ],
             [
              1,
              "#f0f921"
             ]
            ],
            "type": "heatmapgl"
           }
          ],
          "histogram": [
           {
            "marker": {
             "colorbar": {
              "outlinewidth": 0,
              "ticks": ""
             }
            },
            "type": "histogram"
           }
          ],
          "histogram2d": [
           {
            "colorbar": {
             "outlinewidth": 0,
             "ticks": ""
            },
            "colorscale": [
             [
              0,
              "#0d0887"
             ],
             [
              0.1111111111111111,
              "#46039f"
             ],
             [
              0.2222222222222222,
              "#7201a8"
             ],
             [
              0.3333333333333333,
              "#9c179e"
             ],
             [
              0.4444444444444444,
              "#bd3786"
             ],
             [
              0.5555555555555556,
              "#d8576b"
             ],
             [
              0.6666666666666666,
              "#ed7953"
             ],
             [
              0.7777777777777778,
              "#fb9f3a"
             ],
             [
              0.8888888888888888,
              "#fdca26"
             ],
             [
              1,
              "#f0f921"
             ]
            ],
            "type": "histogram2d"
           }
          ],
          "histogram2dcontour": [
           {
            "colorbar": {
             "outlinewidth": 0,
             "ticks": ""
            },
            "colorscale": [
             [
              0,
              "#0d0887"
             ],
             [
              0.1111111111111111,
              "#46039f"
             ],
             [
              0.2222222222222222,
              "#7201a8"
             ],
             [
              0.3333333333333333,
              "#9c179e"
             ],
             [
              0.4444444444444444,
              "#bd3786"
             ],
             [
              0.5555555555555556,
              "#d8576b"
             ],
             [
              0.6666666666666666,
              "#ed7953"
             ],
             [
              0.7777777777777778,
              "#fb9f3a"
             ],
             [
              0.8888888888888888,
              "#fdca26"
             ],
             [
              1,
              "#f0f921"
             ]
            ],
            "type": "histogram2dcontour"
           }
          ],
          "mesh3d": [
           {
            "colorbar": {
             "outlinewidth": 0,
             "ticks": ""
            },
            "type": "mesh3d"
           }
          ],
          "parcoords": [
           {
            "line": {
             "colorbar": {
              "outlinewidth": 0,
              "ticks": ""
             }
            },
            "type": "parcoords"
           }
          ],
          "pie": [
           {
            "automargin": true,
            "type": "pie"
           }
          ],
          "scatter": [
           {
            "marker": {
             "colorbar": {
              "outlinewidth": 0,
              "ticks": ""
             }
            },
            "type": "scatter"
           }
          ],
          "scatter3d": [
           {
            "line": {
             "colorbar": {
              "outlinewidth": 0,
              "ticks": ""
             }
            },
            "marker": {
             "colorbar": {
              "outlinewidth": 0,
              "ticks": ""
             }
            },
            "type": "scatter3d"
           }
          ],
          "scattercarpet": [
           {
            "marker": {
             "colorbar": {
              "outlinewidth": 0,
              "ticks": ""
             }
            },
            "type": "scattercarpet"
           }
          ],
          "scattergeo": [
           {
            "marker": {
             "colorbar": {
              "outlinewidth": 0,
              "ticks": ""
             }
            },
            "type": "scattergeo"
           }
          ],
          "scattergl": [
           {
            "marker": {
             "colorbar": {
              "outlinewidth": 0,
              "ticks": ""
             }
            },
            "type": "scattergl"
           }
          ],
          "scattermapbox": [
           {
            "marker": {
             "colorbar": {
              "outlinewidth": 0,
              "ticks": ""
             }
            },
            "type": "scattermapbox"
           }
          ],
          "scatterpolar": [
           {
            "marker": {
             "colorbar": {
              "outlinewidth": 0,
              "ticks": ""
             }
            },
            "type": "scatterpolar"
           }
          ],
          "scatterpolargl": [
           {
            "marker": {
             "colorbar": {
              "outlinewidth": 0,
              "ticks": ""
             }
            },
            "type": "scatterpolargl"
           }
          ],
          "scatterternary": [
           {
            "marker": {
             "colorbar": {
              "outlinewidth": 0,
              "ticks": ""
             }
            },
            "type": "scatterternary"
           }
          ],
          "surface": [
           {
            "colorbar": {
             "outlinewidth": 0,
             "ticks": ""
            },
            "colorscale": [
             [
              0,
              "#0d0887"
             ],
             [
              0.1111111111111111,
              "#46039f"
             ],
             [
              0.2222222222222222,
              "#7201a8"
             ],
             [
              0.3333333333333333,
              "#9c179e"
             ],
             [
              0.4444444444444444,
              "#bd3786"
             ],
             [
              0.5555555555555556,
              "#d8576b"
             ],
             [
              0.6666666666666666,
              "#ed7953"
             ],
             [
              0.7777777777777778,
              "#fb9f3a"
             ],
             [
              0.8888888888888888,
              "#fdca26"
             ],
             [
              1,
              "#f0f921"
             ]
            ],
            "type": "surface"
           }
          ],
          "table": [
           {
            "cells": {
             "fill": {
              "color": "#EBF0F8"
             },
             "line": {
              "color": "white"
             }
            },
            "header": {
             "fill": {
              "color": "#C8D4E3"
             },
             "line": {
              "color": "white"
             }
            },
            "type": "table"
           }
          ]
         },
         "layout": {
          "annotationdefaults": {
           "arrowcolor": "#2a3f5f",
           "arrowhead": 0,
           "arrowwidth": 1
          },
          "coloraxis": {
           "colorbar": {
            "outlinewidth": 0,
            "ticks": ""
           }
          },
          "colorscale": {
           "diverging": [
            [
             0,
             "#8e0152"
            ],
            [
             0.1,
             "#c51b7d"
            ],
            [
             0.2,
             "#de77ae"
            ],
            [
             0.3,
             "#f1b6da"
            ],
            [
             0.4,
             "#fde0ef"
            ],
            [
             0.5,
             "#f7f7f7"
            ],
            [
             0.6,
             "#e6f5d0"
            ],
            [
             0.7,
             "#b8e186"
            ],
            [
             0.8,
             "#7fbc41"
            ],
            [
             0.9,
             "#4d9221"
            ],
            [
             1,
             "#276419"
            ]
           ],
           "sequential": [
            [
             0,
             "#0d0887"
            ],
            [
             0.1111111111111111,
             "#46039f"
            ],
            [
             0.2222222222222222,
             "#7201a8"
            ],
            [
             0.3333333333333333,
             "#9c179e"
            ],
            [
             0.4444444444444444,
             "#bd3786"
            ],
            [
             0.5555555555555556,
             "#d8576b"
            ],
            [
             0.6666666666666666,
             "#ed7953"
            ],
            [
             0.7777777777777778,
             "#fb9f3a"
            ],
            [
             0.8888888888888888,
             "#fdca26"
            ],
            [
             1,
             "#f0f921"
            ]
           ],
           "sequentialminus": [
            [
             0,
             "#0d0887"
            ],
            [
             0.1111111111111111,
             "#46039f"
            ],
            [
             0.2222222222222222,
             "#7201a8"
            ],
            [
             0.3333333333333333,
             "#9c179e"
            ],
            [
             0.4444444444444444,
             "#bd3786"
            ],
            [
             0.5555555555555556,
             "#d8576b"
            ],
            [
             0.6666666666666666,
             "#ed7953"
            ],
            [
             0.7777777777777778,
             "#fb9f3a"
            ],
            [
             0.8888888888888888,
             "#fdca26"
            ],
            [
             1,
             "#f0f921"
            ]
           ]
          },
          "colorway": [
           "#636efa",
           "#EF553B",
           "#00cc96",
           "#ab63fa",
           "#FFA15A",
           "#19d3f3",
           "#FF6692",
           "#B6E880",
           "#FF97FF",
           "#FECB52"
          ],
          "font": {
           "color": "#2a3f5f"
          },
          "geo": {
           "bgcolor": "white",
           "lakecolor": "white",
           "landcolor": "#E5ECF6",
           "showlakes": true,
           "showland": true,
           "subunitcolor": "white"
          },
          "hoverlabel": {
           "align": "left"
          },
          "hovermode": "closest",
          "mapbox": {
           "style": "light"
          },
          "paper_bgcolor": "white",
          "plot_bgcolor": "#E5ECF6",
          "polar": {
           "angularaxis": {
            "gridcolor": "white",
            "linecolor": "white",
            "ticks": ""
           },
           "bgcolor": "#E5ECF6",
           "radialaxis": {
            "gridcolor": "white",
            "linecolor": "white",
            "ticks": ""
           }
          },
          "scene": {
           "xaxis": {
            "backgroundcolor": "#E5ECF6",
            "gridcolor": "white",
            "gridwidth": 2,
            "linecolor": "white",
            "showbackground": true,
            "ticks": "",
            "zerolinecolor": "white"
           },
           "yaxis": {
            "backgroundcolor": "#E5ECF6",
            "gridcolor": "white",
            "gridwidth": 2,
            "linecolor": "white",
            "showbackground": true,
            "ticks": "",
            "zerolinecolor": "white"
           },
           "zaxis": {
            "backgroundcolor": "#E5ECF6",
            "gridcolor": "white",
            "gridwidth": 2,
            "linecolor": "white",
            "showbackground": true,
            "ticks": "",
            "zerolinecolor": "white"
           }
          },
          "shapedefaults": {
           "line": {
            "color": "#2a3f5f"
           }
          },
          "ternary": {
           "aaxis": {
            "gridcolor": "white",
            "linecolor": "white",
            "ticks": ""
           },
           "baxis": {
            "gridcolor": "white",
            "linecolor": "white",
            "ticks": ""
           },
           "bgcolor": "#E5ECF6",
           "caxis": {
            "gridcolor": "white",
            "linecolor": "white",
            "ticks": ""
           }
          },
          "title": {
           "x": 0.05
          },
          "xaxis": {
           "automargin": true,
           "gridcolor": "white",
           "linecolor": "white",
           "ticks": "",
           "title": {
            "standoff": 15
           },
           "zerolinecolor": "white",
           "zerolinewidth": 2
          },
          "yaxis": {
           "automargin": true,
           "gridcolor": "white",
           "linecolor": "white",
           "ticks": "",
           "title": {
            "standoff": 15
           },
           "zerolinecolor": "white",
           "zerolinewidth": 2
          }
         }
        },
        "xaxis": {
         "anchor": "y",
         "domain": [
          0,
          1
         ]
        },
        "yaxis": {
         "anchor": "x",
         "domain": [
          0,
          1
         ],
         "title": {
          "text": "CLIENTES"
         }
        }
       }
      },
      "text/html": [
       "<div>\n",
       "        \n",
       "        \n",
       "            <div id=\"6857f45e-1852-4356-ba4f-29e6035b1b99\" class=\"plotly-graph-div\" style=\"height:600px; width:100%;\"></div>\n",
       "            <script type=\"text/javascript\">\n",
       "                require([\"plotly\"], function(Plotly) {\n",
       "                    window.PLOTLYENV=window.PLOTLYENV || {};\n",
       "                    \n",
       "                if (document.getElementById(\"6857f45e-1852-4356-ba4f-29e6035b1b99\")) {\n",
       "                    Plotly.newPlot(\n",
       "                        '6857f45e-1852-4356-ba4f-29e6035b1b99',\n",
       "                        [{\"alignmentgroup\": \"True\", \"hoverlabel\": {\"namelength\": 0}, \"hovertemplate\": \"CLIENTES=%{y}\", \"legendgroup\": \"\", \"marker\": {\"color\": \"#636efa\"}, \"name\": \"\", \"notched\": false, \"offsetgroup\": \"\", \"orientation\": \"v\", \"showlegend\": false, \"type\": \"box\", \"x0\": \" \", \"xaxis\": \"x\", \"y\": [5, 8, 10, 10, 22, 32, 38, 52, 61, 70, 78, 86, 89, 93, 98], \"y0\": \" \", \"yaxis\": \"y\"}],\n",
       "                        {\"boxmode\": \"group\", \"height\": 600, \"legend\": {\"tracegroupgap\": 0}, \"margin\": {\"t\": 60}, \"template\": {\"data\": {\"bar\": [{\"error_x\": {\"color\": \"#2a3f5f\"}, \"error_y\": {\"color\": \"#2a3f5f\"}, \"marker\": {\"line\": {\"color\": \"#E5ECF6\", \"width\": 0.5}}, \"type\": \"bar\"}], \"barpolar\": [{\"marker\": {\"line\": {\"color\": \"#E5ECF6\", \"width\": 0.5}}, \"type\": \"barpolar\"}], \"carpet\": [{\"aaxis\": {\"endlinecolor\": \"#2a3f5f\", \"gridcolor\": \"white\", \"linecolor\": \"white\", \"minorgridcolor\": \"white\", \"startlinecolor\": \"#2a3f5f\"}, \"baxis\": {\"endlinecolor\": \"#2a3f5f\", \"gridcolor\": \"white\", \"linecolor\": \"white\", \"minorgridcolor\": \"white\", \"startlinecolor\": \"#2a3f5f\"}, \"type\": \"carpet\"}], \"choropleth\": [{\"colorbar\": {\"outlinewidth\": 0, \"ticks\": \"\"}, \"type\": \"choropleth\"}], \"contour\": [{\"colorbar\": {\"outlinewidth\": 0, \"ticks\": \"\"}, \"colorscale\": [[0.0, \"#0d0887\"], [0.1111111111111111, \"#46039f\"], [0.2222222222222222, \"#7201a8\"], [0.3333333333333333, \"#9c179e\"], [0.4444444444444444, \"#bd3786\"], [0.5555555555555556, \"#d8576b\"], [0.6666666666666666, \"#ed7953\"], [0.7777777777777778, \"#fb9f3a\"], [0.8888888888888888, \"#fdca26\"], [1.0, \"#f0f921\"]], \"type\": \"contour\"}], \"contourcarpet\": [{\"colorbar\": {\"outlinewidth\": 0, \"ticks\": \"\"}, \"type\": \"contourcarpet\"}], \"heatmap\": [{\"colorbar\": {\"outlinewidth\": 0, \"ticks\": \"\"}, \"colorscale\": [[0.0, \"#0d0887\"], [0.1111111111111111, \"#46039f\"], [0.2222222222222222, \"#7201a8\"], [0.3333333333333333, \"#9c179e\"], [0.4444444444444444, \"#bd3786\"], [0.5555555555555556, \"#d8576b\"], [0.6666666666666666, \"#ed7953\"], [0.7777777777777778, \"#fb9f3a\"], [0.8888888888888888, \"#fdca26\"], [1.0, \"#f0f921\"]], \"type\": \"heatmap\"}], \"heatmapgl\": [{\"colorbar\": {\"outlinewidth\": 0, \"ticks\": \"\"}, \"colorscale\": [[0.0, \"#0d0887\"], [0.1111111111111111, \"#46039f\"], [0.2222222222222222, \"#7201a8\"], [0.3333333333333333, \"#9c179e\"], [0.4444444444444444, \"#bd3786\"], [0.5555555555555556, \"#d8576b\"], [0.6666666666666666, \"#ed7953\"], [0.7777777777777778, \"#fb9f3a\"], [0.8888888888888888, \"#fdca26\"], [1.0, \"#f0f921\"]], \"type\": \"heatmapgl\"}], \"histogram\": [{\"marker\": {\"colorbar\": {\"outlinewidth\": 0, \"ticks\": \"\"}}, \"type\": \"histogram\"}], \"histogram2d\": [{\"colorbar\": {\"outlinewidth\": 0, \"ticks\": \"\"}, \"colorscale\": [[0.0, \"#0d0887\"], [0.1111111111111111, \"#46039f\"], [0.2222222222222222, \"#7201a8\"], [0.3333333333333333, \"#9c179e\"], [0.4444444444444444, \"#bd3786\"], [0.5555555555555556, \"#d8576b\"], [0.6666666666666666, \"#ed7953\"], [0.7777777777777778, \"#fb9f3a\"], [0.8888888888888888, \"#fdca26\"], [1.0, \"#f0f921\"]], \"type\": \"histogram2d\"}], \"histogram2dcontour\": [{\"colorbar\": {\"outlinewidth\": 0, \"ticks\": \"\"}, \"colorscale\": [[0.0, \"#0d0887\"], [0.1111111111111111, \"#46039f\"], [0.2222222222222222, \"#7201a8\"], [0.3333333333333333, \"#9c179e\"], [0.4444444444444444, \"#bd3786\"], [0.5555555555555556, \"#d8576b\"], [0.6666666666666666, \"#ed7953\"], [0.7777777777777778, \"#fb9f3a\"], [0.8888888888888888, \"#fdca26\"], [1.0, \"#f0f921\"]], \"type\": \"histogram2dcontour\"}], \"mesh3d\": [{\"colorbar\": {\"outlinewidth\": 0, \"ticks\": \"\"}, \"type\": \"mesh3d\"}], \"parcoords\": [{\"line\": {\"colorbar\": {\"outlinewidth\": 0, \"ticks\": \"\"}}, \"type\": \"parcoords\"}], \"pie\": [{\"automargin\": true, \"type\": \"pie\"}], \"scatter\": [{\"marker\": {\"colorbar\": {\"outlinewidth\": 0, \"ticks\": \"\"}}, \"type\": \"scatter\"}], \"scatter3d\": [{\"line\": {\"colorbar\": {\"outlinewidth\": 0, \"ticks\": \"\"}}, \"marker\": {\"colorbar\": {\"outlinewidth\": 0, \"ticks\": \"\"}}, \"type\": \"scatter3d\"}], \"scattercarpet\": [{\"marker\": {\"colorbar\": {\"outlinewidth\": 0, \"ticks\": \"\"}}, \"type\": \"scattercarpet\"}], \"scattergeo\": [{\"marker\": {\"colorbar\": {\"outlinewidth\": 0, \"ticks\": \"\"}}, \"type\": \"scattergeo\"}], \"scattergl\": [{\"marker\": {\"colorbar\": {\"outlinewidth\": 0, \"ticks\": \"\"}}, \"type\": \"scattergl\"}], \"scattermapbox\": [{\"marker\": {\"colorbar\": {\"outlinewidth\": 0, \"ticks\": \"\"}}, \"type\": \"scattermapbox\"}], \"scatterpolar\": [{\"marker\": {\"colorbar\": {\"outlinewidth\": 0, \"ticks\": \"\"}}, \"type\": \"scatterpolar\"}], \"scatterpolargl\": [{\"marker\": {\"colorbar\": {\"outlinewidth\": 0, \"ticks\": \"\"}}, \"type\": \"scatterpolargl\"}], \"scatterternary\": [{\"marker\": {\"colorbar\": {\"outlinewidth\": 0, \"ticks\": \"\"}}, \"type\": \"scatterternary\"}], \"surface\": [{\"colorbar\": {\"outlinewidth\": 0, \"ticks\": \"\"}, \"colorscale\": [[0.0, \"#0d0887\"], [0.1111111111111111, \"#46039f\"], [0.2222222222222222, \"#7201a8\"], [0.3333333333333333, \"#9c179e\"], [0.4444444444444444, \"#bd3786\"], [0.5555555555555556, \"#d8576b\"], [0.6666666666666666, \"#ed7953\"], [0.7777777777777778, \"#fb9f3a\"], [0.8888888888888888, \"#fdca26\"], [1.0, \"#f0f921\"]], \"type\": \"surface\"}], \"table\": [{\"cells\": {\"fill\": {\"color\": \"#EBF0F8\"}, \"line\": {\"color\": \"white\"}}, \"header\": {\"fill\": {\"color\": \"#C8D4E3\"}, \"line\": {\"color\": \"white\"}}, \"type\": \"table\"}]}, \"layout\": {\"annotationdefaults\": {\"arrowcolor\": \"#2a3f5f\", \"arrowhead\": 0, \"arrowwidth\": 1}, \"coloraxis\": {\"colorbar\": {\"outlinewidth\": 0, \"ticks\": \"\"}}, \"colorscale\": {\"diverging\": [[0, \"#8e0152\"], [0.1, \"#c51b7d\"], [0.2, \"#de77ae\"], [0.3, \"#f1b6da\"], [0.4, \"#fde0ef\"], [0.5, \"#f7f7f7\"], [0.6, \"#e6f5d0\"], [0.7, \"#b8e186\"], [0.8, \"#7fbc41\"], [0.9, \"#4d9221\"], [1, \"#276419\"]], \"sequential\": [[0.0, \"#0d0887\"], [0.1111111111111111, \"#46039f\"], [0.2222222222222222, \"#7201a8\"], [0.3333333333333333, \"#9c179e\"], [0.4444444444444444, \"#bd3786\"], [0.5555555555555556, \"#d8576b\"], [0.6666666666666666, \"#ed7953\"], [0.7777777777777778, \"#fb9f3a\"], [0.8888888888888888, \"#fdca26\"], [1.0, \"#f0f921\"]], \"sequentialminus\": [[0.0, \"#0d0887\"], [0.1111111111111111, \"#46039f\"], [0.2222222222222222, \"#7201a8\"], [0.3333333333333333, \"#9c179e\"], [0.4444444444444444, \"#bd3786\"], [0.5555555555555556, \"#d8576b\"], [0.6666666666666666, \"#ed7953\"], [0.7777777777777778, \"#fb9f3a\"], [0.8888888888888888, \"#fdca26\"], [1.0, \"#f0f921\"]]}, \"colorway\": [\"#636efa\", \"#EF553B\", \"#00cc96\", \"#ab63fa\", \"#FFA15A\", \"#19d3f3\", \"#FF6692\", \"#B6E880\", \"#FF97FF\", \"#FECB52\"], \"font\": {\"color\": \"#2a3f5f\"}, \"geo\": {\"bgcolor\": \"white\", \"lakecolor\": \"white\", \"landcolor\": \"#E5ECF6\", \"showlakes\": true, \"showland\": true, \"subunitcolor\": \"white\"}, \"hoverlabel\": {\"align\": \"left\"}, \"hovermode\": \"closest\", \"mapbox\": {\"style\": \"light\"}, \"paper_bgcolor\": \"white\", \"plot_bgcolor\": \"#E5ECF6\", \"polar\": {\"angularaxis\": {\"gridcolor\": \"white\", \"linecolor\": \"white\", \"ticks\": \"\"}, \"bgcolor\": \"#E5ECF6\", \"radialaxis\": {\"gridcolor\": \"white\", \"linecolor\": \"white\", \"ticks\": \"\"}}, \"scene\": {\"xaxis\": {\"backgroundcolor\": \"#E5ECF6\", \"gridcolor\": \"white\", \"gridwidth\": 2, \"linecolor\": \"white\", \"showbackground\": true, \"ticks\": \"\", \"zerolinecolor\": \"white\"}, \"yaxis\": {\"backgroundcolor\": \"#E5ECF6\", \"gridcolor\": \"white\", \"gridwidth\": 2, \"linecolor\": \"white\", \"showbackground\": true, \"ticks\": \"\", \"zerolinecolor\": \"white\"}, \"zaxis\": {\"backgroundcolor\": \"#E5ECF6\", \"gridcolor\": \"white\", \"gridwidth\": 2, \"linecolor\": \"white\", \"showbackground\": true, \"ticks\": \"\", \"zerolinecolor\": \"white\"}}, \"shapedefaults\": {\"line\": {\"color\": \"#2a3f5f\"}}, \"ternary\": {\"aaxis\": {\"gridcolor\": \"white\", \"linecolor\": \"white\", \"ticks\": \"\"}, \"baxis\": {\"gridcolor\": \"white\", \"linecolor\": \"white\", \"ticks\": \"\"}, \"bgcolor\": \"#E5ECF6\", \"caxis\": {\"gridcolor\": \"white\", \"linecolor\": \"white\", \"ticks\": \"\"}}, \"title\": {\"x\": 0.05}, \"xaxis\": {\"automargin\": true, \"gridcolor\": \"white\", \"linecolor\": \"white\", \"ticks\": \"\", \"title\": {\"standoff\": 15}, \"zerolinecolor\": \"white\", \"zerolinewidth\": 2}, \"yaxis\": {\"automargin\": true, \"gridcolor\": \"white\", \"linecolor\": \"white\", \"ticks\": \"\", \"title\": {\"standoff\": 15}, \"zerolinecolor\": \"white\", \"zerolinewidth\": 2}}}, \"xaxis\": {\"anchor\": \"y\", \"domain\": [0.0, 1.0]}, \"yaxis\": {\"anchor\": \"x\", \"domain\": [0.0, 1.0], \"title\": {\"text\": \"CLIENTES\"}}},\n",
       "                        {\"responsive\": true}\n",
       "                    ).then(function(){\n",
       "                            \n",
       "var gd = document.getElementById('6857f45e-1852-4356-ba4f-29e6035b1b99');\n",
       "var x = new MutationObserver(function (mutations, observer) {{\n",
       "        var display = window.getComputedStyle(gd).display;\n",
       "        if (!display || display === 'none') {{\n",
       "            console.log([gd, 'removed!']);\n",
       "            Plotly.purge(gd);\n",
       "            observer.disconnect();\n",
       "        }}\n",
       "}});\n",
       "\n",
       "// Listen for the removal of the full notebook cells\n",
       "var notebookContainer = gd.closest('#notebook-container');\n",
       "if (notebookContainer) {{\n",
       "    x.observe(notebookContainer, {childList: true});\n",
       "}}\n",
       "\n",
       "// Listen for the clearing of the current output cell\n",
       "var outputEl = gd.closest('.output');\n",
       "if (outputEl) {{\n",
       "    x.observe(outputEl, {childList: true});\n",
       "}}\n",
       "\n",
       "                        })\n",
       "                };\n",
       "                });\n",
       "            </script>\n",
       "        </div>"
      ]
     },
     "metadata": {},
     "output_type": "display_data"
    }
   ],
   "source": [
    "import plotly.express as px\n",
    "\n",
    "davivienda = data[data[\"BANCO\"] == \"BANCO DAVIVIENDA\"]\n",
    "\n",
    "fig = px.box(davivienda, y=\"CLIENTES\" )\n",
    "fig.show()"
   ]
  },
  {
   "cell_type": "code",
   "execution_count": null,
   "metadata": {},
   "outputs": [],
   "source": []
  }
 ],
 "metadata": {
  "kernelspec": {
   "display_name": "Python 3",
   "language": "python",
   "name": "python3"
  },
  "language_info": {
   "codemirror_mode": {
    "name": "ipython",
    "version": 3
   },
   "file_extension": ".py",
   "mimetype": "text/x-python",
   "name": "python",
   "nbconvert_exporter": "python",
   "pygments_lexer": "ipython3",
   "version": "3.7.4"
  }
 },
=======
 "cells": [],
 "metadata": {},
>>>>>>> 1ea1e82d80637a222f3423429506a47094e9e72d
 "nbformat": 4,
 "nbformat_minor": 2
}
